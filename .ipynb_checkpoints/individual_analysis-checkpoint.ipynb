{
 "cells": [
  {
   "cell_type": "code",
   "execution_count": 1,
   "metadata": {},
   "outputs": [],
   "source": [
    "import pandas as pd"
   ]
  },
  {
   "cell_type": "code",
   "execution_count": 4,
   "metadata": {},
   "outputs": [
    {
     "data": {
      "text/html": [
       "<div>\n",
       "<style scoped>\n",
       "    .dataframe tbody tr th:only-of-type {\n",
       "        vertical-align: middle;\n",
       "    }\n",
       "\n",
       "    .dataframe tbody tr th {\n",
       "        vertical-align: top;\n",
       "    }\n",
       "\n",
       "    .dataframe thead th {\n",
       "        text-align: right;\n",
       "    }\n",
       "</style>\n",
       "<table border=\"1\" class=\"dataframe\">\n",
       "  <thead>\n",
       "    <tr style=\"text-align: right;\">\n",
       "      <th></th>\n",
       "      <th>Name</th>\n",
       "      <th>Gift Date</th>\n",
       "      <th>Gift Amount</th>\n",
       "      <th>Campaign ID</th>\n",
       "      <th>Appeal ID</th>\n",
       "      <th>Fund ID</th>\n",
       "      <th>Gift Code</th>\n",
       "      <th>Gift Reference</th>\n",
       "    </tr>\n",
       "  </thead>\n",
       "  <tbody>\n",
       "    <tr>\n",
       "      <th>0</th>\n",
       "      <td>Thomas M. Sims</td>\n",
       "      <td>1/1/2014</td>\n",
       "      <td>$1,000.00</td>\n",
       "      <td>IN14-SP</td>\n",
       "      <td>IN$$14</td>\n",
       "      <td>6010</td>\n",
       "      <td>1010 Individual Giving</td>\n",
       "      <td>IHO Evangeline Boyd</td>\n",
       "    </tr>\n",
       "    <tr>\n",
       "      <th>1</th>\n",
       "      <td>David D. DuBose</td>\n",
       "      <td>1/1/2014</td>\n",
       "      <td>$250.00</td>\n",
       "      <td>IN14-SP</td>\n",
       "      <td>IN$$14</td>\n",
       "      <td>6010</td>\n",
       "      <td>1010 Individual Giving</td>\n",
       "      <td>NaN</td>\n",
       "    </tr>\n",
       "    <tr>\n",
       "      <th>2</th>\n",
       "      <td>Marc Rietvelt</td>\n",
       "      <td>1/1/2014</td>\n",
       "      <td>$25.00</td>\n",
       "      <td>IN14-SP</td>\n",
       "      <td>IN$$14</td>\n",
       "      <td>6010</td>\n",
       "      <td>1010 Individual Giving</td>\n",
       "      <td>NaN</td>\n",
       "    </tr>\n",
       "    <tr>\n",
       "      <th>3</th>\n",
       "      <td>Gregory Fiete</td>\n",
       "      <td>1/1/2014</td>\n",
       "      <td>$800.00</td>\n",
       "      <td>IN14-SP</td>\n",
       "      <td>IN$$14</td>\n",
       "      <td>6010</td>\n",
       "      <td>1010 Individual Giving</td>\n",
       "      <td>NaN</td>\n",
       "    </tr>\n",
       "    <tr>\n",
       "      <th>4</th>\n",
       "      <td>M. Diane Dwight</td>\n",
       "      <td>1/1/2014</td>\n",
       "      <td>$500.00</td>\n",
       "      <td>IN14-SP</td>\n",
       "      <td>IN$$14</td>\n",
       "      <td>6010</td>\n",
       "      <td>1010 Individual Giving</td>\n",
       "      <td>IHO Felicia Teel and Craig Hester wedding</td>\n",
       "    </tr>\n",
       "  </tbody>\n",
       "</table>\n",
       "</div>"
      ],
      "text/plain": [
       "              Name Gift Date Gift Amount Campaign ID Appeal ID Fund ID  \\\n",
       "0   Thomas M. Sims  1/1/2014  $1,000.00      IN14-SP    IN$$14    6010   \n",
       "1  David D. DuBose  1/1/2014    $250.00      IN14-SP    IN$$14    6010   \n",
       "2    Marc Rietvelt  1/1/2014     $25.00      IN14-SP    IN$$14    6010   \n",
       "3    Gregory Fiete  1/1/2014    $800.00      IN14-SP    IN$$14    6010   \n",
       "4  M. Diane Dwight  1/1/2014    $500.00      IN14-SP    IN$$14    6010   \n",
       "\n",
       "                Gift Code                             Gift Reference  \n",
       "0  1010 Individual Giving                        IHO Evangeline Boyd  \n",
       "1  1010 Individual Giving                                        NaN  \n",
       "2  1010 Individual Giving                                        NaN  \n",
       "3  1010 Individual Giving                                        NaN  \n",
       "4  1010 Individual Giving  IHO Felicia Teel and Craig Hester wedding  "
      ]
     },
     "execution_count": 4,
     "metadata": {},
     "output_type": "execute_result"
    }
   ],
   "source": [
    "df=pd.read_csv(\"Resources/individual_gifts.csv\", encoding = \"ISO-8859-1\")\n",
    "df.head()"
   ]
  },
  {
   "cell_type": "code",
   "execution_count": null,
   "metadata": {},
   "outputs": [],
   "source": []
  }
 ],
 "metadata": {
  "kernelspec": {
   "display_name": "Python 3",
   "language": "python",
   "name": "python3"
  },
  "language_info": {
   "codemirror_mode": {
    "name": "ipython",
    "version": 3
   },
   "file_extension": ".py",
   "mimetype": "text/x-python",
   "name": "python",
   "nbconvert_exporter": "python",
   "pygments_lexer": "ipython3",
   "version": "3.7.6"
  }
 },
 "nbformat": 4,
 "nbformat_minor": 4
}
